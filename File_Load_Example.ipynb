{
 "cells": [
  {
   "cell_type": "code",
   "execution_count": null,
   "id": "e5eb0df4",
   "metadata": {
    "slideshow": {
     "slide_type": "subslide"
    }
   },
   "outputs": [],
   "source": [
    "# Importing the required lybraries and functions - Part 1\n",
    "\n",
    "from lorenzetti_utils.read_events import *\n",
    "from ROOT import TCanvas, TH1F, TH2F, TH1I, TFile\n",
    "from ROOT import TLatex, gPad\n",
    "from ROOT import kRed, kBlue, kBlack,TLine,kBird, kOrange,kGray, kYellow, kViolet, kGreen, kAzure\n",
    "from pprint import pprint\n",
    "from pandas import DataFrame\n",
    "\n",
    "import array\n",
    "import numpy as np\n",
    "%config InlineBackend.figure_format = 'retina'\n",
    "%load_ext autoreload\n",
    "%autoreload 2\n",
    "\n",
    "GeV=1000."
   ]
  },
  {
   "cell_type": "code",
   "execution_count": null,
   "id": "6668ca9f",
   "metadata": {},
   "outputs": [],
   "source": [
    "# Importing the required lybraries and functions - Part 2\n",
    "\n",
    "from Gaugi import load\n",
    "from Gaugi.monet.utils import getColor,getColors\n",
    "from Gaugi.monet.PlotFunctions import *\n",
    "from Gaugi.monet.TAxisFunctions import *\n",
    "from Gaugi.monet.AtlasStyle import *\n",
    "from Gaugi.utilities import stdvector_to_list, progressbar\n",
    "SetAtlasStyle()"
   ]
  },
  {
   "cell_type": "code",
   "execution_count": null,
   "id": "199dc773",
   "metadata": {},
   "outputs": [],
   "source": [
    "# Function to read the .root file and save the relevant variables in a DataFrame format\n",
    "\n",
    "def read_events( path , nov=-1):\n",
    "    \n",
    "    event = EventStore(path, \"physics\")\n",
    "    vars = ['et','eta','phi','reta','rphi','rhad','eratio','weta2','f1','f3']\n",
    "    d = { key:[] for key in vars }\n",
    "    d['rings'] = []\n",
    "    d['MC_et'] = []\n",
    "    d['MC_eta'] = []\n",
    "    d['MC_phi'] = []\n",
    "    \n",
    "    if nov < 0 or nov > event.GetEntries():\n",
    "        nov = event.GetEntries()\n",
    "    \n",
    "    for entry in progressbar( range(nov) , event.GetEntries() , prefix='Reading...') : \n",
    "        event.GetEntry(entry) \n",
    "        \n",
    "        cluster_cont = event.retrieve(\"CaloClusterContainer_Clusters\")\n",
    "        truth_cont = event.retrieve(\"TruthParticleContainer_Particles\")\n",
    "        for caloRings in event.retrieve(\"CaloRingsContainer_Rings\"):\n",
    "            \n",
    "            emClus = cluster_cont.at(caloRings.cluster_link)\n",
    "            for key in vars:\n",
    "                d[key].append( getattr(emClus,key) )    \n",
    "            d['rings'].append(stdvector_to_list(caloRings.rings))\n",
    "            d['MC_et'].append( getattr(truth_cont.at(caloRings.cluster_link),'et') )\n",
    "            d['MC_eta'].append( getattr(truth_cont.at(caloRings.cluster_link),'eta') )\n",
    "            d['MC_phi'].append( getattr(truth_cont.at(caloRings.cluster_link),'phi') )\n",
    "            \n",
    "    \n",
    "    return DataFrame(d)"
   ]
  },
  {
   "cell_type": "code",
   "execution_count": null,
   "id": "265b23c9",
   "metadata": {},
   "outputs": [],
   "source": [
    "# Define the path to the downloaded .root file\n",
    "\n",
    "path = '/eos/user/e/efurtado/lorenzetti_calibration/calibration/electrons.merge.root'\n",
    "\n",
    "e_event = read_events(path, nov=100000)\n",
    "# nov = number of events read from the .root file\n"
   ]
  },
  {
   "cell_type": "code",
   "execution_count": null,
   "id": "a17431c7",
   "metadata": {},
   "outputs": [],
   "source": [
    "# Importing the required lybraries and functions - Part 3\n",
    "\n",
    "import numpy as np\n",
    "from scipy import stats\n",
    "from scipy.stats import wasserstein_distance\n",
    "import matplotlib as mpl\n",
    "import matplotlib.pyplot as plt\n",
    "import lightgbm as lgb\n",
    "from sklearn.model_selection import train_test_split\n",
    "from statistics import mean, stdev\n",
    "\n",
    "from calibtools import calc_sv, create_inputs, train_bdt, do_crossval\n",
    "mpl.rcParams['figure.dpi'] = 300\n"
   ]
  }
 ],
 "metadata": {
  "@webio": {
   "lastCommId": null,
   "lastKernelId": null
  },
  "kernelspec": {
   "display_name": "Python 3",
   "language": "python",
   "name": "python3"
  },
  "language_info": {
   "codemirror_mode": {
    "name": "ipython",
    "version": 3
   },
   "file_extension": ".py",
   "mimetype": "text/x-python",
   "name": "python",
   "nbconvert_exporter": "python",
   "pygments_lexer": "ipython3",
   "version": "3.11.9"
  }
 },
 "nbformat": 4,
 "nbformat_minor": 5
}
